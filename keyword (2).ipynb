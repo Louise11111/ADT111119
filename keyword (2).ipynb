{
 "cells": [
  {
   "cell_type": "code",
   "execution_count": 5,
   "id": "0e011f89-5b5a-4a93-ba43-a6e9e08df3ed",
   "metadata": {},
   "outputs": [
    {
     "name": "stdout",
     "output_type": "stream",
     "text": [
      "找到4次\n"
     ]
    }
   ],
   "source": [
    "import requests\n",
    "from bs4 import BeautifulSoup\n",
    "\n",
    "url='https://2023ntcu.ntcu.edu.tw/'\n",
    "html=requests.get(url)\n",
    "html.encoding=\"utf-8\"\n",
    "#print(html.text)\n",
    "soup=BeautifulSoup(html.text,'html.parser')\n",
    "#print(soup.prettify())\n",
    "\n",
    "#htmllist=html.text.splitlines()\n",
    "#print(htmllist)\n",
    "\n",
    "n=0\n",
    "keyword=\"臺中\"\n",
    "for text in soup.stripped_strings:\n",
    "    if keyword in text:\n",
    "        n=n+1\n",
    "print(\"找到{}次\".format(n) )"
   ]
  },
  {
   "cell_type": "code",
   "execution_count": null,
   "id": "4e22dc1e-e88b-4831-bcd5-41948e42b402",
   "metadata": {},
   "outputs": [],
   "source": []
  }
 ],
 "metadata": {
  "kernelspec": {
   "display_name": "Python 3 (ipykernel)",
   "language": "python",
   "name": "python3"
  },
  "language_info": {
   "codemirror_mode": {
    "name": "ipython",
    "version": 3
   },
   "file_extension": ".py",
   "mimetype": "text/x-python",
   "name": "python",
   "nbconvert_exporter": "python",
   "pygments_lexer": "ipython3",
   "version": "3.12.4"
  }
 },
 "nbformat": 4,
 "nbformat_minor": 5
}
